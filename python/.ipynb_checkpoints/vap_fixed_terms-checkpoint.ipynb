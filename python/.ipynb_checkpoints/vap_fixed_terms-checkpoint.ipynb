{
 "cells": [
  {
   "cell_type": "code",
   "execution_count": 1,
   "id": "53eb904a-5daa-489a-99ef-8ae31566796c",
   "metadata": {},
   "outputs": [],
   "source": [
    "import pandas as pd\n",
    "from config import ROOT_PATH, DATA_PATH\n"
   ]
  },
  {
   "cell_type": "markdown",
   "id": "5a01d3ba-5caf-45c6-9526-bbdbef0b266c",
   "metadata": {},
   "source": [
    "# Theory to calculate the abundance and fishing mortality matrix\n",
    "\n",
    "## 1) Calculate matrices assuming the terminal fishing mortality $ F_{3} $ and fixed natural mortality M\n",
    "\n",
    "1. Calculation of abundance for oldest age: $ \\large N_{8} = \\frac{C_{8} * Z_{3}}{F_{8} * \\ e^{(1 - Z_{8})}} $\n",
    "2. Once $ N_{8} $ is known, we calculate the fishing mortality of same cohort the year earlier $ F_{7} $ so that $ N_{8} $ was left. To do so we use the catch equation at age: $ \\large C_{7} = \\frac{F_{7}}{Z_{7}} * e^{(1 - Z_{7})} $\n",
    "3. Last we calculate $ N_{7} $ using teh exponential decay function for $ N_{t} $: $ \\large N_{7} =  N_{8} * e^{(Z_{7})} = N_{8} * e^{(F_{7} + M)} $\n",
    "4. We repeat the steps 2 and 3 until we calculate $ N_{1} $\n",
    "\n",
    "## 2) Recalculate the abundances for a submatrix that excludes last year and last age\n",
    "\n",
    "The abundance matrix is modified by recalculating the submatrix that excludes the last row (last year) and column (last age). The formula to recalculate it is: $ \\large N_{t} =  N_{t+1}e^{M} + C_{t}e^{\\frac{M}{2}} $. This process will generate a new abundance matrix.\n",
    "\n",
    "## 3) Recalculate the fishing mortality matrix\n",
    "\n",
    "1. Calculate first the submatrix that excludes the last column (last age) with the formula: $ \\large log_n (\\frac{N_{t,a}}{N_{t+1,a+1}}) - M$\n",
    "2. Calculate the last column (last age fishing mortality) as the average of the fishing mortality of the previoius ages.  In our cases we would get use only from age 3 onwards as the fishing mortality of those ages is very small and the natural one very large.\n"
   ]
  },
  {
   "cell_type": "code",
   "execution_count": null,
   "id": "80dd149d-8dab-46d7-a4e0-dfa2df4133c7",
   "metadata": {},
   "outputs": [],
   "source": []
  },
  {
   "cell_type": "code",
   "execution_count": null,
   "id": "8ac9cc9e-8a39-496d-b1e4-2d881fabce2b",
   "metadata": {},
   "outputs": [],
   "source": [
    "\n",
    "    "
   ]
  }
 ],
 "metadata": {
  "kernelspec": {
   "display_name": "Python 3 (ipykernel)",
   "language": "python",
   "name": "python3"
  },
  "language_info": {
   "codemirror_mode": {
    "name": "ipython",
    "version": 3
   },
   "file_extension": ".py",
   "mimetype": "text/x-python",
   "name": "python",
   "nbconvert_exporter": "python",
   "pygments_lexer": "ipython3",
   "version": "3.9.4"
  }
 },
 "nbformat": 4,
 "nbformat_minor": 5
}
