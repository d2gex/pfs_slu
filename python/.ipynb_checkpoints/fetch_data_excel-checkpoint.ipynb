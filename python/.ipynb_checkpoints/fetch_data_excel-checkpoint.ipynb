{
 "cells": [
  {
   "cell_type": "code",
   "execution_count": 1,
   "id": "ad223d3e-f3fa-45df-badb-f95e4274415c",
   "metadata": {},
   "outputs": [],
   "source": [
    "import pandas as pd\n",
    "from typing import List,Optional\n",
    "from config import ROOT_PATH, DATA_PATH\n",
    "from os import path"
   ]
  },
  {
   "cell_type": "code",
   "execution_count": 2,
   "id": "1aee94c7-5a25-46ba-a493-3f3de03da9d7",
   "metadata": {},
   "outputs": [],
   "source": [
    "sprat_data_path = path.join(DATA_PATH, 'project', 'VPA_assignment_sprat.xlsx')"
   ]
  },
  {
   "cell_type": "code",
   "execution_count": 3,
   "id": "036a2eed-5452-4ea5-ad14-33a737fcb903",
   "metadata": {},
   "outputs": [],
   "source": [
    "df_header = ['year'] + [x for x in range(1, 9)]"
   ]
  },
  {
   "cell_type": "code",
   "execution_count": 4,
   "id": "839dd31c-9425-482a-8358-21d580c5efa5",
   "metadata": {},
   "outputs": [],
   "source": [
    "def extract_data_from_excel (data_path: str, sheet_name: str, col_range: List[str], skip_rows: int, num_rows: int, header=Optional[List]):\n",
    "    col_range = ':'.join(col_range)\n",
    "    data = pd.read_excel(data_path, sheet_name=sheet_name, usecols=col_range, skiprows=skip_rows, nrows= num_rows, names=header)\n",
    "    return(data)"
   ]
  },
  {
   "cell_type": "code",
   "execution_count": 5,
   "id": "3984b5f3-89f8-49e8-9377-8108e5800017",
   "metadata": {},
   "outputs": [],
   "source": [
    "# Extract excel data for weight at age\n",
    "weight_data = extract_data_from_excel(sprat_data_path, sheet_name= 'VPA', col_range=['A', 'I'], skip_rows=3, num_rows=(33-3), header=df_header)\n",
    "weight_data_path = path.join(DATA_PATH, 'project', 'vpa', 'weight_age.csv')\n",
    "average_data = pd.DataFrame(data={'years': weight_data.columns[1:], 'weight': round(weight_data.mean()[1:], 3)})"
   ]
  },
  {
   "cell_type": "code",
   "execution_count": 6,
   "id": "17b4219a-8ca7-490f-87b7-4cac772eb9aa",
   "metadata": {},
   "outputs": [],
   "source": [
    "maturity_data = extract_data_from_excel(sprat_data_path, sheet_name= 'VPA', col_range=['K', 'S'], skip_rows=2, num_rows=(33-3), header=df_header)\n",
    "maturity_data_path = path.join(DATA_PATH, 'project', 'vpa', 'maturity_rate.csv') \n",
    "average_data['maturity'] = [round(x, 3) for x in maturity_data.mean().values[1:]]"
   ]
  },
  {
   "cell_type": "code",
   "execution_count": 7,
   "id": "69fa8eb1-8e5f-4401-8b77-19da229a71c0",
   "metadata": {},
   "outputs": [],
   "source": [
    "# Extract excel data for maturity rates\n",
    "mortality_data = extract_data_from_excel(sprat_data_path, sheet_name= 'VPA', col_range=['V', 'AD'], skip_rows=2, num_rows=(33-3), header=df_header)\n",
    "mortality_data_path = path.join(DATA_PATH, 'project', 'vpa', 'mortality_rate.csv') \n",
    "average_data['mortality'] = [round(x, 3) for x in mortality_data.mean().values[1:]]"
   ]
  },
  {
   "cell_type": "code",
   "execution_count": 8,
   "id": "cd1fe595-ad56-4d6e-94bd-094e306a4af1",
   "metadata": {},
   "outputs": [],
   "source": [
    "averages_path = path.join(DATA_PATH, 'project', 'vpa', 'averages.csv')\n",
    "weight_data.to_csv(weight_data_path, index=False)\n",
    "maturity_data.to_csv(maturity_data_path, index=False)\n",
    "mortality_data.to_csv(mortality_data_path, index=False)\n",
    "average_data.to_csv(averages_path, index=False)"
   ]
  },
  {
   "cell_type": "code",
   "execution_count": null,
   "id": "da65345b-d5ff-4900-b617-ffb9681ff760",
   "metadata": {},
   "outputs": [],
   "source": []
  }
 ],
 "metadata": {
  "kernelspec": {
   "display_name": "Python 3 (ipykernel)",
   "language": "python",
   "name": "python3"
  },
  "language_info": {
   "codemirror_mode": {
    "name": "ipython",
    "version": 3
   },
   "file_extension": ".py",
   "mimetype": "text/x-python",
   "name": "python",
   "nbconvert_exporter": "python",
   "pygments_lexer": "ipython3",
   "version": "3.9.4"
  }
 },
 "nbformat": 4,
 "nbformat_minor": 5
}
