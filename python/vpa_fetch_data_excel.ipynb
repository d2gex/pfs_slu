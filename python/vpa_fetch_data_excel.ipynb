{
 "cells": [
  {
   "cell_type": "code",
   "execution_count": 80,
   "id": "ad223d3e-f3fa-45df-badb-f95e4274415c",
   "metadata": {},
   "outputs": [],
   "source": [
    "import pandas as pd\n",
    "from typing import List,Optional\n",
    "from config import ROOT_PATH, DATA_PATH\n",
    "from os import path"
   ]
  },
  {
   "cell_type": "code",
   "execution_count": 81,
   "id": "036a2eed-5452-4ea5-ad14-33a737fcb903",
   "metadata": {},
   "outputs": [],
   "source": [
    "df_header = ['year'] + [x for x in range(1, 9)]"
   ]
  },
  {
   "cell_type": "code",
   "execution_count": 82,
   "id": "839dd31c-9425-482a-8358-21d580c5efa5",
   "metadata": {},
   "outputs": [],
   "source": [
    "def extract_data_from_excel (data_path: str, sheet_name: str, col_range: List[str], skip_rows: int, num_rows: int, header=Optional[List]):\n",
    "    col_range = ':'.join(col_range)\n",
    "    data = pd.read_excel(data_path, sheet_name=sheet_name, usecols=col_range, skiprows=skip_rows, nrows= num_rows, names=header)\n",
    "    return(data)"
   ]
  },
  {
   "cell_type": "code",
   "execution_count": 83,
   "id": "3984b5f3-89f8-49e8-9377-8108e5800017",
   "metadata": {},
   "outputs": [],
   "source": [
    "# Extract excel data for weight at age\n",
    "weight_data = extract_data_from_excel(sprat_data_path, sheet_name= 'VPA', col_range=['A', 'I'], skip_rows=2, num_rows=(33-3), header=df_header)\n",
    "weight_data_path = path.join(DATA_PATH, 'project', 'vpa', 'weight_age.csv')\n",
    "average_data = pd.DataFrame(data={'years': weight_data.columns[1:], 'weight': round(weight_data.mean()[1:], 3)})"
   ]
  },
  {
   "cell_type": "code",
   "execution_count": 84,
   "id": "17b4219a-8ca7-490f-87b7-4cac772eb9aa",
   "metadata": {},
   "outputs": [],
   "source": [
    "# Extract excel data for maturity\n",
    "maturity_data = extract_data_from_excel(sprat_data_path, sheet_name= 'VPA', col_range=['K', 'S'], skip_rows=2, num_rows=(33-3), header=df_header)\n",
    "maturity_data_path = path.join(DATA_PATH, 'project', 'vpa', 'maturity_rate.csv') \n",
    "average_data['maturity'] = [round(x, 3) for x in maturity_data.mean().values[1:]]"
   ]
  },
  {
   "cell_type": "code",
   "execution_count": 85,
   "id": "f6e5dd73-ef70-4e9e-97d0-f2912426f037",
   "metadata": {},
   "outputs": [],
   "source": [
    "# Extract excel data for mortality rates\n",
    "m_mortality_data = extract_data_from_excel(sprat_data_path, sheet_name= 'VPA', col_range=['V', 'AD'], skip_rows=2, num_rows=(33-3), header=df_header)\n",
    "m_mortality_data_path = path.join(DATA_PATH, 'project', 'vpa', 'm_mortality_rate.csv') \n",
    "average_data['mortality'] = [round(x, 3) for x in m_mortality_data.mean().values[1:]]"
   ]
  },
  {
   "cell_type": "code",
   "execution_count": 86,
   "id": "a0ac667d-d321-40d0-8572-b413f1af726f",
   "metadata": {},
   "outputs": [],
   "source": [
    "# Generate initial fishing mortality matrix\n",
    "last_f_mortality_row = extract_data_from_excel(sprat_data_path, sheet_name= 'VPA', col_range=['L', 'S'], skip_rows=65, num_rows=1, header=None)\n",
    "f_mortality_data = m_mortality_data.copy()\n",
    "f_mortality_data.loc[:, 1:] = [x for x in last_f_mortality_row.values] * 30\n",
    "f_mortality_data_path = path.join(DATA_PATH, 'project', 'vpa', 'f_mortality_rate.csv') "
   ]
  },
  {
   "cell_type": "code",
   "execution_count": 87,
   "id": "998495e0-67c7-438f-96af-f502c71861fd",
   "metadata": {},
   "outputs": [],
   "source": [
    "# Extract excel data for catch rates\n",
    "catch_data = extract_data_from_excel(sprat_data_path, sheet_name= 'VPA', col_range=['A', 'I'], skip_rows=36, num_rows=(33-3), header=df_header)\n",
    "catch_data_path = path.join(DATA_PATH, 'project', 'vpa', 'catch_rate.csv') \n",
    "average_data['catch'] = [round(x, 3) for x in catch_data.mean().values[1:]]"
   ]
  },
  {
   "cell_type": "code",
   "execution_count": 88,
   "id": "cd1fe595-ad56-4d6e-94bd-094e306a4af1",
   "metadata": {},
   "outputs": [],
   "source": [
    "averages_path = path.join(DATA_PATH, 'project', 'vpa', 'averages.csv')\n",
    "weight_data.to_csv(weight_data_path, index=False)\n",
    "maturity_data.to_csv(maturity_data_path, index=False)\n",
    "m_mortality_data.to_csv(m_mortality_data_path, index=False)\n",
    "f_mortality_data.to_csv(f_mortality_data_path, index=False)\n",
    "catch_data.to_csv(catch_data_path, index=False)\n",
    "average_data.to_csv(averages_path, index=False)"
   ]
  }
 ],
 "metadata": {
  "kernelspec": {
   "display_name": "Python 3 (ipykernel)",
   "language": "python",
   "name": "python3"
  },
  "language_info": {
   "codemirror_mode": {
    "name": "ipython",
    "version": 3
   },
   "file_extension": ".py",
   "mimetype": "text/x-python",
   "name": "python",
   "nbconvert_exporter": "python",
   "pygments_lexer": "ipython3",
   "version": "3.9.4"
  }
 },
 "nbformat": 4,
 "nbformat_minor": 5
}
