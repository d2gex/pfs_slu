{
 "cells": [
  {
   "cell_type": "code",
   "execution_count": 37,
   "id": "53eb904a-5daa-489a-99ef-8ae31566796c",
   "metadata": {},
   "outputs": [],
   "source": [
    "import pandas as pd\n",
    "import math\n",
    "import numpy as np\n",
    "from os import path\n",
    "from config import ROOT_PATH, DATA_PATH"
   ]
  },
  {
   "cell_type": "markdown",
   "id": "5a01d3ba-5caf-45c6-9526-bbdbef0b266c",
   "metadata": {},
   "source": [
    "# Theory to calculate the abundance and fishing mortality matrix\n",
    "\n",
    "## 1) Calculate diagonal abundance and fishing mortality matrices \n",
    "\n",
    "The first step will calculate the diagonal abundance and fishing mortality matrices, assuming a terminal fishing moratlity $ F_{3} $ and fix natural mortality M\n",
    "\n",
    "1. Calculation of abundance for oldest age: $ \\large (1) N_{8} = \\frac{C_{8} * Z_{8}}{F_{8} * \\ e^{(1 - Z_{8})}} $\n",
    "2. Once $ N_{8} $ is known, we calculate the fishing mortality of same cohort the year earlier $ F_{7} $ so that $ N_{8} $ was left. To do so we use the catch equation at age: $ \\large C_{7} = \\frac{F_{7}}{Z_{7}} * e^{(1 - Z_{7})} $\n",
    "3. Last we calculate $ N_{7} $ using teh exponential decay function for $ N_{t} $: $ \\large N_{7} =  N_{8} * e^{(Z_{7})} = N_{8} * e^{(F_{7} + M)} $\n",
    "4. We repeat the steps 2 and 3 until we calculate $ N_{1} $\n",
    "\n",
    "## 2) Recalculate the abundances for a submatrix that excludes last year and last age\n",
    "\n",
    "The abundance matrix is modified by recalculating the submatrix that excludes the last row (last year) and column (last age). The formula to recalculate it is: $ \\large N_{t} =  N_{t+1}e^{M} + C_{t}e^{\\frac{M}{2}} $. This process will generate a new abundance matrix.\n",
    "\n",
    "## 3) Recalculate the fishing mortality matrix\n",
    "\n",
    "1. Calculate first the submatrix that excludes the last column (last age) with the formula: $ \\large log_n (\\frac{N_{t,a}}{N_{t+1,a+1}}) - M$\n",
    "2. Calculate the last column (last age fishing mortality) as the average of the fishing mortality of the previoius ages.  In our cases we would get use only from age 3 onwards as the fishing mortality of those ages is very small and the natural one very large.\n"
   ]
  },
  {
   "cell_type": "code",
   "execution_count": 30,
   "id": "8ac9cc9e-8a39-496d-b1e4-2d881fabce2b",
   "metadata": {},
   "outputs": [],
   "source": [
    "# Read catch, and mortality rates (1)\n",
    "# ---> read natural mortality matrix\n",
    "data_path =path.join(DATA_PATH, 'project', 'vpa', 'm_mortality_rate.csv')\n",
    "m = pd.read_csv(data_path)\n",
    "\n",
    "# ---> read fishing mortality matrix\n",
    "data_path =path.join(DATA_PATH, 'project', 'vpa', 'f_mortality_rate.csv')\n",
    "f = pd.read_csv(data_path)\n",
    "\n",
    "# --> read catch matrix\n",
    "data_path =path.join(DATA_PATH, 'project', 'vpa', 'catch_rate.csv')\n",
    "c = pd.read_csv(data_path)\n",
    "\n",
    "# --> abundance matrix\n",
    "n = f.copy()\n",
    "n[n.columns[1:]] = 0\n"
   ]
  },
  {
   "cell_type": "markdown",
   "id": "d19f2682-417d-4407-81fe-1f0abfe712ee",
   "metadata": {},
   "source": [
    "## 1.1) Calculate last column and row of N matrix of abundance matrix\n",
    "\n",
    "Use catch equation $ \\large N_{t} = \\frac{C_{t} * Z_{t}}{F_{t} * \\ e^{(1 - Z_{t})}} $\n"
   ]
  },
  {
   "cell_type": "code",
   "execution_count": 117,
   "id": "e59dfee1-9137-479b-8e68-00df0ff9e343",
   "metadata": {},
   "outputs": [],
   "source": [
    "# Calculate abundance for last column (age 8 for all years)\n",
    "ct = c.iloc[:, -1]\n",
    "zt = f.iloc[:, -1] + m.iloc[:, -1]\n",
    "ft = f.iloc[:, -1]\n",
    "exp_z = np.exp(pd.Series([1] * len(zt)) - zt)\n",
    "# update last column\n",
    "n.iloc[:, -1] = round(ct * zt / ft * exp_z, 2)"
   ]
  },
  {
   "cell_type": "code",
   "execution_count": 118,
   "id": "e8c7d3c9-910a-4310-bbda-be73476eee29",
   "metadata": {},
   "outputs": [],
   "source": [
    "# Calculate abundance for last row (all ages for the last year)\n",
    "ct = c.iloc[-1, 1:].reset_index(drop=True)\n",
    "zt = (f.iloc[-1, 1:] + m.iloc[-1, 1:]).reset_index(drop=True)\n",
    "ft = f.iloc[-1, 1:].reset_index(drop=True)\n",
    "exp_z = np.exp(pd.Series([1] * len(zt)) - zt)\n",
    "# update last rowex\n",
    "n.iloc[-1, 1:] = round(ctr * ztr / ftr * exp_z, 2)"
   ]
  },
  {
   "cell_type": "markdown",
   "id": "e09df610-62ee-4387-8740-50beffe1a38e",
   "metadata": {},
   "source": [
    "## 1.2) Calculate rest of abundance matrix using Pope's equation\n",
    "\n",
    "The Pope's equation $ \\large N_{t, a} =  N_{t+1, a+1}e^{M} + C_{t}e^{\\frac{M}{2}} $ is used to calculate the rest of the rows"
   ]
  },
  {
   "cell_type": "code",
   "execution_count": 128,
   "id": "93fc3f48-e1ec-489c-b2dd-a955bc75c827",
   "metadata": {},
   "outputs": [],
   "source": [
    "for col in range(len(n.columns)-1, 0, -1):\n",
    "    nt1 = n.iloc[:-1, col]\n",
    "    e_m = np.exp(m.iloc[:-1, col])\n",
    "    ct = c.iloc[:-1, col]\n",
    "    em_2 = np.exp(m.iloc[:-1, col] / 2)\n",
    "    n.iloc[:-1, col] = (nt1 * e_m) + (ct * em_2)"
   ]
  }
 ],
 "metadata": {
  "kernelspec": {
   "display_name": "Python 3 (ipykernel)",
   "language": "python",
   "name": "python3"
  },
  "language_info": {
   "codemirror_mode": {
    "name": "ipython",
    "version": 3
   },
   "file_extension": ".py",
   "mimetype": "text/x-python",
   "name": "python",
   "nbconvert_exporter": "python",
   "pygments_lexer": "ipython3",
   "version": "3.9.4"
  }
 },
 "nbformat": 4,
 "nbformat_minor": 5
}
