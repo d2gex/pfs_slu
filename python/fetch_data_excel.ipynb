{
 "cells": [
  {
   "cell_type": "code",
   "execution_count": 4,
   "id": "ad223d3e-f3fa-45df-badb-f95e4274415c",
   "metadata": {},
   "outputs": [],
   "source": [
    "import pandas as pd\n",
    "from typing import List\n",
    "from config import ROOT_PATH, DATA_PATH\n",
    "from os import path"
   ]
  },
  {
   "cell_type": "code",
   "execution_count": 5,
   "id": "1aee94c7-5a25-46ba-a493-3f3de03da9d7",
   "metadata": {},
   "outputs": [],
   "source": [
    "sprat_data_path = path.join(DATA_PATH, 'project', 'VPA_assignment_sprat.xlsx')"
   ]
  },
  {
   "cell_type": "code",
   "execution_count": 6,
   "id": "839dd31c-9425-482a-8358-21d580c5efa5",
   "metadata": {},
   "outputs": [],
   "source": [
    "def extract_data_from_excel (data_path: str, sheet_name: str, col_range: List[str], skip_rows: int, num_rows: int, col_rename: str):\n",
    "    col_range = ':'.join(col_range)\n",
    "    data = pd.read_excel(data_path, sheet_name=sheet_name, usecols=col_range, skiprows=skip_rows, nrows= num_rows)\n",
    "    data.rename(columns={data.columns[0]: col_rename }, inplace=True)\n",
    "    return(data)"
   ]
  },
  {
   "cell_type": "code",
   "execution_count": 10,
   "id": "3984b5f3-89f8-49e8-9377-8108e5800017",
   "metadata": {},
   "outputs": [],
   "source": [
    "mortality_data = extract_data_from_excel(sprat_data_path, sheet_name= 'VPA', col_range=['A', 'I'], skip_rows=2, num_rows=(33-3), col_rename='year')\n",
    "mortality_data_path = path.join(DATA_PATH, 'project', 'vpa', 'mortality_rate.csv')\n",
    "mortality_data.to_csv(mortality_data_path, index=False)"
   ]
  },
  {
   "cell_type": "code",
   "execution_count": null,
   "id": "1ce55bad-2a16-46a7-b9e7-3682259706d1",
   "metadata": {},
   "outputs": [],
   "source": []
  }
 ],
 "metadata": {
  "kernelspec": {
   "display_name": "Python 3 (ipykernel)",
   "language": "python",
   "name": "python3"
  },
  "language_info": {
   "codemirror_mode": {
    "name": "ipython",
    "version": 3
   },
   "file_extension": ".py",
   "mimetype": "text/x-python",
   "name": "python",
   "nbconvert_exporter": "python",
   "pygments_lexer": "ipython3",
   "version": "3.9.4"
  }
 },
 "nbformat": 4,
 "nbformat_minor": 5
}
